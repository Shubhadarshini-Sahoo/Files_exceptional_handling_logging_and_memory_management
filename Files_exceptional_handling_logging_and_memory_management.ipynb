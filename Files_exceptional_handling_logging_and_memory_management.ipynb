{
  "nbformat": 4,
  "nbformat_minor": 0,
  "metadata": {
    "colab": {
      "provenance": []
    },
    "kernelspec": {
      "name": "python3",
      "display_name": "Python 3"
    },
    "language_info": {
      "name": "python"
    }
  },
  "cells": [
    {
      "cell_type": "markdown",
      "source": [
        "##**Files, exceptional handling,logging and memory management Assignment**\n",
        "\n"
      ],
      "metadata": {
        "id": "UjFFRqVmwHWo"
      }
    },
    {
      "cell_type": "markdown",
      "source": [
        "**1.What is the difference between interpreted and compiled languages?**"
      ],
      "metadata": {
        "id": "c52WmbXTlAQk"
      }
    },
    {
      "cell_type": "markdown",
      "source": [
        "A compiled language is one where the source code is translated into machine code by a compiler before it is executed, producing a standalone program that typically runs very fast because the translation step is already complete. In contrast, an interpreted language is executed directly by an interpreter, which reads and runs the code line by line at runtime, making it easier to test and modify but usually slower since translation happens on the fly. Some modern languages use a hybrid approach, compiling code into an intermediate form and then executing it with just-in-time (JIT) compilation to combine speed with flexibility."
      ],
      "metadata": {
        "id": "xNHrrC1tlGBQ"
      }
    },
    {
      "cell_type": "markdown",
      "source": [
        "**2.What is exception handling in Python?**"
      ],
      "metadata": {
        "id": "H2QhMUrplVCo"
      }
    },
    {
      "cell_type": "markdown",
      "source": [
        "Exception handling in Python is a way to manage errors that occur during a program’s execution so that the program doesn’t crash unexpectedly.\n",
        "\n",
        "When Python encounters a problem (like dividing by zero or trying to open a missing file), it raises an exception. Without handling, the program stops immediately. Exception handling uses the try–except block to catch these exceptions and respond gracefully—for example, by showing an error message, using a default value, or retrying the operation."
      ],
      "metadata": {
        "id": "St4vY1_JlZvL"
      }
    },
    {
      "cell_type": "code",
      "source": [
        "try:\n",
        "    result = 10 / 0   # This will cause ZeroDivisionError\n",
        "except ZeroDivisionError:\n",
        "    print(\"You can't divide by zero!\")"
      ],
      "metadata": {
        "colab": {
          "base_uri": "https://localhost:8080/"
        },
        "id": "dL4Hegqnlijb",
        "outputId": "58524f0c-23e6-46b2-955b-8ab81bec8dee"
      },
      "execution_count": null,
      "outputs": [
        {
          "output_type": "stream",
          "name": "stdout",
          "text": [
            "You can't divide by zero!\n"
          ]
        }
      ]
    },
    {
      "cell_type": "markdown",
      "source": [
        "**3.What is the purpose of the finally block in exception handling?**"
      ],
      "metadata": {
        "id": "1vsRmdJXlkpP"
      }
    },
    {
      "cell_type": "markdown",
      "source": [
        "In Python’s exception handling, the finally block is used to define code that should run no matter what happens—whether an exception occurs, is handled, or no exception occurs at all.\n",
        "\n",
        "Its main purpose is to ensure cleanup actions are always performed, such as closing files, releasing network connections, or freeing resources."
      ],
      "metadata": {
        "id": "l67E_bSslt5r"
      }
    },
    {
      "cell_type": "markdown",
      "source": [
        "**4. What is logging in Python?**"
      ],
      "metadata": {
        "id": "FG9T1ThMl6EJ"
      }
    },
    {
      "cell_type": "markdown",
      "source": [
        "Logging in Python is the process of recording messages about a program’s execution—such as errors, warnings, or informational events—so that developers can monitor, debug, and maintain the software.\n",
        "\n",
        "Python provides a built-in logging module that lets you write these messages to different destinations, such as the console, log files, or even remote servers. Logging is more flexible and powerful than using print() because you can control log levels (e.g., DEBUG, INFO, WARNING, ERROR, CRITICAL), format messages, and turn logging on or off without changing your code’s logic."
      ],
      "metadata": {
        "id": "4aGG-t52mAZR"
      }
    },
    {
      "cell_type": "code",
      "source": [
        "import logging\n",
        "\n",
        "logging.basicConfig(level=logging.INFO)\n",
        "logging.info(\"Application started\")\n",
        "logging.warning(\"Low disk space\")\n",
        "logging.error(\"File not found\")"
      ],
      "metadata": {
        "colab": {
          "base_uri": "https://localhost:8080/"
        },
        "id": "zsznQryYmIYt",
        "outputId": "5e7284bb-c9a6-4942-8cb7-6d17f98b8431"
      },
      "execution_count": null,
      "outputs": [
        {
          "output_type": "stream",
          "name": "stderr",
          "text": [
            "WARNING:root:Low disk space\n",
            "ERROR:root:File not found\n"
          ]
        }
      ]
    },
    {
      "cell_type": "markdown",
      "source": [
        "**5.What is the significance of the __del__ method in Python?**"
      ],
      "metadata": {
        "id": "BKNF0h_tmKNG"
      }
    },
    {
      "cell_type": "markdown",
      "source": [
        "In Python, the __del__ method is a destructor—a special method that’s automatically called when an object is about to be destroyed (i.e., when its reference count drops to zero and it’s about to be garbage collected).\n",
        "\n",
        "Its main significance is that it lets you define cleanup behavior for objects, such as releasing resources, closing files, or disconnecting from networks before the object is removed from memory."
      ],
      "metadata": {
        "id": "k18x4tcdmQA_"
      }
    },
    {
      "cell_type": "code",
      "source": [
        "class FileHandler:\n",
        "    def __init__(self, filename):\n",
        "        self.file = open(filename, 'w')\n",
        "        print(\"File opened.\")\n",
        "\n",
        "    def __del__(self):\n",
        "        self.file.close()\n",
        "        print(\"File closed.\")\n",
        "\n",
        "obj = FileHandler(\"test.txt\")\n",
        "del obj\n"
      ],
      "metadata": {
        "colab": {
          "base_uri": "https://localhost:8080/"
        },
        "id": "8BFMBZ9WmVLf",
        "outputId": "36ab9afe-7bb1-4724-f680-cfd3b3976577"
      },
      "execution_count": null,
      "outputs": [
        {
          "output_type": "stream",
          "name": "stdout",
          "text": [
            "File opened.\n",
            "File closed.\n"
          ]
        }
      ]
    },
    {
      "cell_type": "markdown",
      "source": [
        "**6. What is the difference between import and from ... import in Python?**"
      ],
      "metadata": {
        "id": "hwNBM8_gmbMG"
      }
    },
    {
      "cell_type": "markdown",
      "source": [
        "**import-**\n",
        "When you use import module, Python loads the entire module, and you must use the module’s name as a prefix to access its functions, classes, or variables. This approach helps avoid naming conflicts and makes it clear which module a function comes from, but it requires more typing."
      ],
      "metadata": {
        "id": "8RTNsrQOmvAy"
      }
    },
    {
      "cell_type": "code",
      "source": [
        "import math\n",
        "\n",
        "print(math.sqrt(25))\n",
        "print(math.pi)"
      ],
      "metadata": {
        "colab": {
          "base_uri": "https://localhost:8080/"
        },
        "id": "fxY6lfR7mzSZ",
        "outputId": "14df31fa-e367-4590-a309-1ac466c0b9ac"
      },
      "execution_count": null,
      "outputs": [
        {
          "output_type": "stream",
          "name": "stdout",
          "text": [
            "5.0\n",
            "3.141592653589793\n"
          ]
        }
      ]
    },
    {
      "cell_type": "markdown",
      "source": [
        "**from....import**-\n",
        "When you use from module import name, you bring specific items from a module directly into your program’s namespace. You can use them without the module prefix, which makes code shorter, but it increases the risk of naming conflicts if different modules have functions or variables with the same name."
      ],
      "metadata": {
        "id": "Qnwog3T0m8lN"
      }
    },
    {
      "cell_type": "code",
      "source": [
        "from math import sqrt, pi\n",
        "\n",
        "print(sqrt(25))  # No need to prefix with math.\n",
        "print(pi)"
      ],
      "metadata": {
        "colab": {
          "base_uri": "https://localhost:8080/"
        },
        "id": "uljyTaSGnIkX",
        "outputId": "a31b437a-7ad2-4b35-a0d3-cbc5c5c7fa57"
      },
      "execution_count": null,
      "outputs": [
        {
          "output_type": "stream",
          "name": "stdout",
          "text": [
            "5.0\n",
            "3.141592653589793\n"
          ]
        }
      ]
    },
    {
      "cell_type": "markdown",
      "source": [
        "**7.How can you handle multiple exceptions in Python?**"
      ],
      "metadata": {
        "id": "wIheBWJQnPYy"
      }
    },
    {
      "cell_type": "markdown",
      "source": [
        "In Python, you can handle multiple exceptions either by using separate except blocks for each type of error or by grouping exception types into a single except block using a tuple. Separate blocks allow you to respond differently to different errors, such as catching ValueError for invalid inputs and ZeroDivisionError for division by zero. If multiple exceptions need the same handling, you can write except (ValueError, ZeroDivisionError) as e: to catch them together. You can also use a generic except Exception as e to catch almost any error, but it’s best to be specific so you don’t accidentally hide bugs."
      ],
      "metadata": {
        "id": "5mtCU1wnnU0l"
      }
    },
    {
      "cell_type": "code",
      "source": [
        "try:\n",
        "    num = int(input(\"Enter a number: \"))\n",
        "    result = 10 / num\n",
        "except ValueError:\n",
        "    print(\"Invalid number entered.\")\n",
        "except ZeroDivisionError:\n",
        "    print(\"Division by zero is not allowed.\")"
      ],
      "metadata": {
        "colab": {
          "base_uri": "https://localhost:8080/"
        },
        "id": "WPfIZ7AyncUB",
        "outputId": "43360253-1a36-4815-a0ff-e2bd275b0da2"
      },
      "execution_count": null,
      "outputs": [
        {
          "name": "stdout",
          "output_type": "stream",
          "text": [
            "Enter a number: 10\n"
          ]
        }
      ]
    },
    {
      "cell_type": "markdown",
      "source": [
        "**8.What is the purpose of the with statement when handling files in Python?**"
      ],
      "metadata": {
        "id": "Hnz4sxyznvIe"
      }
    },
    {
      "cell_type": "markdown",
      "source": [
        "In Python, the with statement ensures that files are automatically closed after use, even if an error occurs.\n",
        "It manages resources by calling the file’s open and close methods behind the scenes.\n",
        "This makes code cleaner, safer, and avoids forgetting to close files."
      ],
      "metadata": {
        "id": "72W53KPooSCQ"
      }
    },
    {
      "cell_type": "markdown",
      "source": [
        "**9.What is the difference between multithreading and multiprocessing.**"
      ],
      "metadata": {
        "id": "7o-KSE36s48G"
      }
    },
    {
      "cell_type": "markdown",
      "source": [
        "Multithreading uses multiple threads within the same process, sharing the same memory space. It’s lightweight and good for I/O-bound tasks (like reading files or network requests) but in Python is limited for CPU-bound tasks due to the Global Interpreter Lock (GIL)."
      ],
      "metadata": {
        "id": "IeVs0GTBs-M9"
      }
    },
    {
      "cell_type": "code",
      "source": [
        "import threading\n",
        "import time\n",
        "\n",
        "def task(name):\n",
        "    print(f\"Thread {name} starting\")\n",
        "    time.sleep(2)  # Simulating I/O delay\n",
        "    print(f\"Thread {name} finished\")\n",
        "\n",
        "threads = []\n",
        "for i in range(3):\n",
        "    t = threading.Thread(target=task, args=(i,))\n",
        "    threads.append(t)\n",
        "    t.start()\n",
        "\n",
        "for t in threads:\n",
        "    t.join()"
      ],
      "metadata": {
        "colab": {
          "base_uri": "https://localhost:8080/"
        },
        "id": "CwBcJBlMtaEP",
        "outputId": "53d73114-8356-4cd7-ccd1-cebe261a07d9"
      },
      "execution_count": null,
      "outputs": [
        {
          "output_type": "stream",
          "name": "stdout",
          "text": [
            "Thread 0 starting\n",
            "Thread 1 starting\n",
            "Thread 2 starting\n",
            "Thread 0 finished\n",
            "Thread 1 finished\n",
            "Thread 2 finished\n"
          ]
        }
      ]
    },
    {
      "cell_type": "markdown",
      "source": [
        "Multiprocessing uses multiple processes, each with its own memory space. It can fully use multiple CPU cores, making it better for CPU-bound tasks, but has higher memory and communication overhead."
      ],
      "metadata": {
        "id": "3Zdj8h8Btt6d"
      }
    },
    {
      "cell_type": "code",
      "source": [
        "import multiprocessing\n",
        "import time\n",
        "\n",
        "def task(name):\n",
        "    print(f\"Process {name} starting\")\n",
        "    time.sleep(2)  # Simulating work\n",
        "    print(f\"Process {name} finished\")\n",
        "\n",
        "processes = []\n",
        "for i in range(3):\n",
        "    p = multiprocessing.Process(target=task, args=(i,))\n",
        "    processes.append(p)\n",
        "    p.start()\n",
        "\n",
        "for p in processes:\n",
        "    p.join()"
      ],
      "metadata": {
        "colab": {
          "base_uri": "https://localhost:8080/"
        },
        "id": "BifbCmFotxll",
        "outputId": "9d3a4a28-c70f-408c-90ed-3258fb495626"
      },
      "execution_count": null,
      "outputs": [
        {
          "output_type": "stream",
          "name": "stdout",
          "text": [
            "Process 0 startingProcess 1 starting\n",
            "\n",
            "Process 2 starting\n",
            "Process 1 finishedProcess 0 finished\n",
            "Process 2 finished\n",
            "\n"
          ]
        }
      ]
    },
    {
      "cell_type": "markdown",
      "source": [
        "**10.What are the advantages of using logging in a program?**"
      ],
      "metadata": {
        "id": "Bw44dB0At5dx"
      }
    },
    {
      "cell_type": "markdown",
      "source": [
        "Using logging in a program provides a structured, configurable, and persistent way to record events, making it far more powerful than simple print() statements. Logs help with debugging and troubleshooting by preserving detailed runtime information—complete with timestamps, severity levels, and variable states—so issues can be diagnosed even after a crash. They support adjustable verbosity through log levels, allowing developers to see detailed output in development while keeping production logs concise. Logging can store records in files or centralized systems for long-term analysis, compliance, and auditing, and it enables performance monitoring by tracking execution times or key metrics. Unlike print() output, logs can be cleanly managed, archived, and searched, making them safer and more scalable for production systems."
      ],
      "metadata": {
        "id": "0c3QzozruDRD"
      }
    },
    {
      "cell_type": "markdown",
      "source": [
        "**11.What is memory management in Python?**"
      ],
      "metadata": {
        "id": "FjKbSON9OZBE"
      }
    },
    {
      "cell_type": "markdown",
      "source": [
        "Memory management in Python is the automatic process of allocating, tracking, and freeing memory for objects using a private heap, reference counting, and garbage collection, ensuring efficient use of resources without manual intervention."
      ],
      "metadata": {
        "id": "famvvnR3Od_U"
      }
    },
    {
      "cell_type": "markdown",
      "source": [
        "**12.What are the basic steps involved in exception handling in Python?**"
      ],
      "metadata": {
        "id": "b-Oyjp86OnTC"
      }
    },
    {
      "cell_type": "markdown",
      "source": [
        "In Python, exception handling involves placing code that might cause an error inside a try block, catching and handling the error in an except block, optionally running code in an else block if no error occurs, and executing any necessary cleanup in a finally block, which runs regardless of whether an error happened."
      ],
      "metadata": {
        "id": "ycYTiGeEOtNL"
      }
    },
    {
      "cell_type": "code",
      "source": [
        "try:\n",
        "    number = int(input(\"Enter a number: \"))\n",
        "    result = 10 / number\n",
        "except ValueError:\n",
        "    print(\"That was not a valid number.\")\n",
        "except ZeroDivisionError:\n",
        "    print(\"You can’t divide by zero!\")\n",
        "else:\n",
        "    print(f\"Result is {result}\")\n",
        "finally:\n",
        "    print(\"Execution complete.\")"
      ],
      "metadata": {
        "colab": {
          "base_uri": "https://localhost:8080/"
        },
        "id": "u-sswKrXRvWy",
        "outputId": "2f3e3e71-e3f6-4162-bc99-eee7c035cde6"
      },
      "execution_count": null,
      "outputs": [
        {
          "output_type": "stream",
          "name": "stdout",
          "text": [
            "Enter a number: 20\n",
            "Result is 0.5\n",
            "Execution complete.\n"
          ]
        }
      ]
    },
    {
      "cell_type": "markdown",
      "source": [
        "**13.Why is memory management important in Python?**"
      ],
      "metadata": {
        "id": "C8ADnqnJRxWh"
      }
    },
    {
      "cell_type": "markdown",
      "source": [
        "Memory management in Python is important because it ensures efficient use of system memory, prevents memory leaks, and maintains program performance. Python automatically manages memory through reference counting and garbage collection, but writing code without considering memory usage can still lead to excessive consumption, slow execution, or crashes. Good memory management helps programs run faster, handle large datasets smoothly, and remain stable over time."
      ],
      "metadata": {
        "id": "Ogx8vLRsSKfr"
      }
    },
    {
      "cell_type": "markdown",
      "source": [
        "**14. What is the role of try and except in exception handling?**"
      ],
      "metadata": {
        "id": "Sh65c9fhSLeP"
      }
    },
    {
      "cell_type": "markdown",
      "source": [
        "In Python exception handling, the try block contains code that might raise an error, and the except block defines how to handle that error if it occurs, preventing the program from crashing."
      ],
      "metadata": {
        "id": "YgLLAkcvSTKJ"
      }
    },
    {
      "cell_type": "markdown",
      "source": [
        "**15. How does Python's garbage collection system work?**"
      ],
      "metadata": {
        "id": "jlnMzYRxSZgC"
      }
    },
    {
      "cell_type": "markdown",
      "source": [
        "Python’s garbage collection system works by automatically freeing memory that’s no longer in use. It mainly uses reference counting—each object keeps track of how many references point to it, and when the count drops to zero, the memory is freed immediately.\n",
        "\n",
        "For objects involved in reference cycles (where they reference each other), Python’s cyclic garbage collector periodically scans for such cycles and cleans them up to prevent memory leaks."
      ],
      "metadata": {
        "id": "vGCeWQolSkF3"
      }
    },
    {
      "cell_type": "markdown",
      "source": [
        "**16.What is the purpose of the else block in exception handling?**"
      ],
      "metadata": {
        "id": "yuQD65haSmbY"
      }
    },
    {
      "cell_type": "markdown",
      "source": [
        "In Python exception handling, the else block is used to run code only if no exception occurs in the try block, keeping normal execution separate from error-handling code."
      ],
      "metadata": {
        "id": "SCQ5Pt0WSr2Q"
      }
    },
    {
      "cell_type": "markdown",
      "source": [
        "**17.What are the common logging levels in Python?**"
      ],
      "metadata": {
        "id": "WTF5qwhwSwdU"
      }
    },
    {
      "cell_type": "markdown",
      "source": [
        "The common logging levels in Python are:\n",
        "\n",
        "DEBUG – Detailed information, mainly for diagnosing problems.\n",
        "\n",
        "INFO – General events that confirm the program is working as expected.\n",
        "\n",
        "WARNING – An indication that something unexpected happened, but the program is still running.\n",
        "\n",
        "ERROR – A serious issue that has caused part of the program to fail.\n",
        "\n",
        "CRITICAL – A severe error indicating the program may not continue running.\n"
      ],
      "metadata": {
        "id": "VcVb6Zu5S32v"
      }
    },
    {
      "cell_type": "markdown",
      "source": [
        "**18.What is the difference between os.fork() and multiprocessing in Python?**"
      ],
      "metadata": {
        "id": "3W4PWF5FS-x2"
      }
    },
    {
      "cell_type": "markdown",
      "source": [
        "os.fork() directly creates a new child process by duplicating the current process at the operating system level, but it’s Unix/Linux-only and offers low-level control without built-in tools for data sharing or task management."
      ],
      "metadata": {
        "id": "R_H_lXuTTE3-"
      }
    },
    {
      "cell_type": "code",
      "source": [
        "import os\n",
        "\n",
        "def child_process():\n",
        "    print(f\"Child PID: {os.getpid()}\")\n",
        "\n",
        "pid = os.fork()  # Create a new process\n",
        "if pid == 0:  # Child process\n",
        "    child_process()\n",
        "else:  # Parent process\n",
        "    print(f\"Parent PID: {os.getpid()}, Child PID: {pid}\")"
      ],
      "metadata": {
        "colab": {
          "base_uri": "https://localhost:8080/"
        },
        "id": "OGk3-4MBTSq8",
        "outputId": "3cf3face-6209-4040-91f7-ba3c8a4a7205"
      },
      "execution_count": null,
      "outputs": [
        {
          "output_type": "stream",
          "name": "stdout",
          "text": [
            "Parent PID: 483, Child PID: 2175\n",
            "Child PID: 2175\n"
          ]
        }
      ]
    },
    {
      "cell_type": "markdown",
      "source": [
        "The multiprocessing module, on the other hand, is a cross-platform high-level API that internally uses os.fork() on Unix (and other mechanisms on Windows) to create processes, while also providing features like process pools, interprocess communication (queues, pipes), and easier management of worker processes."
      ],
      "metadata": {
        "id": "8Z_LvpgqTX3x"
      }
    },
    {
      "cell_type": "code",
      "source": [
        "from multiprocessing import Process\n",
        "import os\n",
        "\n",
        "def worker():\n",
        "    print(f\"Worker PID: {os.getpid()}\")\n",
        "\n",
        "if __name__ == \"__main__\":\n",
        "    p = Process(target=worker)\n",
        "    p.start()\n",
        "    p.join()\n",
        "    print(\"Main process finished\")"
      ],
      "metadata": {
        "colab": {
          "base_uri": "https://localhost:8080/"
        },
        "id": "x4PDECjwTW0C",
        "outputId": "f154e2f0-14a8-42af-cb47-e318ee28cade"
      },
      "execution_count": null,
      "outputs": [
        {
          "output_type": "stream",
          "name": "stdout",
          "text": [
            "Worker PID: 2312\n",
            "Main process finished\n"
          ]
        }
      ]
    },
    {
      "cell_type": "markdown",
      "source": [
        "**19.What is the importance of closing a file in Python?**"
      ],
      "metadata": {
        "id": "lLnwsBrxThAO"
      }
    },
    {
      "cell_type": "markdown",
      "source": [
        "Closing a file in Python is important because it frees system resources, ensures all data is written to disk (flushes buffers), and prevents file corruption. If you don’t close a file, especially after writing, some data might remain in memory and never get saved properly, and leaving files open can also lead to resource leaks or issues when other processes try to access the same file."
      ],
      "metadata": {
        "id": "24m_7-FKTqC0"
      }
    },
    {
      "cell_type": "markdown",
      "source": [
        "**20.What is the difference between file.read() and file.readline() in Python?**"
      ],
      "metadata": {
        "id": "VWrHcW4qTvjt"
      }
    },
    {
      "cell_type": "markdown",
      "source": [
        "file.read() reads the entire file (or a specified number of characters/bytes) into a single string, while file.readline() reads only one line from the file at a time, ending at a newline character."
      ],
      "metadata": {
        "id": "ZsY8qzegT1F_"
      }
    },
    {
      "cell_type": "code",
      "source": [
        "with open(\"sample.txt\", \"w\") as f:\n",
        "    f.write(\"Hello World\\n\")\n",
        "    f.write(\"Python is fun\\n\")\n",
        "    f.write(\"End of file\\n\")"
      ],
      "metadata": {
        "id": "YykrvA32VANF"
      },
      "execution_count": null,
      "outputs": []
    },
    {
      "cell_type": "code",
      "source": [
        " #sample.txt content:\n",
        "# Hello World\n",
        "# Python is fun\n",
        "\n",
        "with open(\"sample.txt\", \"r\") as f:\n",
        "    print(f.read(5))\n",
        "with open(\"sample.txt\", \"r\") as f:\n",
        "    print(f.readline())\n",
        "    print(f.readline())"
      ],
      "metadata": {
        "colab": {
          "base_uri": "https://localhost:8080/"
        },
        "id": "zqcb0i6AUizu",
        "outputId": "705c571d-f75a-4d30-99c6-34f7a573208c"
      },
      "execution_count": null,
      "outputs": [
        {
          "output_type": "stream",
          "name": "stdout",
          "text": [
            "Hello\n",
            "Hello World\n",
            "\n",
            "Python is fun\n",
            "\n"
          ]
        }
      ]
    },
    {
      "cell_type": "markdown",
      "source": [
        "**21.What is the logging module in Python used for?**"
      ],
      "metadata": {
        "id": "uDuDCLQBVNnt"
      }
    },
    {
      "cell_type": "markdown",
      "source": [
        "The logging module in Python is used to record (log) messages from your program for tracking events, debugging, and diagnosing problems.\n",
        "It allows you to log messages at different severity levels (DEBUG, INFO, WARNING, ERROR, CRITICAL) and direct them to various outputs like the console, files, or external systems, all without using print() statements."
      ],
      "metadata": {
        "id": "Ia2ikCz3VSzZ"
      }
    },
    {
      "cell_type": "code",
      "source": [
        "import logging\n",
        "\n",
        "# Configure logging\n",
        "logging.basicConfig(level=logging.DEBUG, filename=\"app.log\", filemode=\"w\",\n",
        "                    format=\"%(levelname)s - %(message)s\")\n",
        "\n",
        "logging.debug(\"This is a debug message\")\n",
        "logging.info(\"Application started\")\n",
        "logging.warning(\"Low disk space\")\n",
        "logging.error(\"An error occurred\")\n",
        "logging.critical(\"System crash!\")"
      ],
      "metadata": {
        "colab": {
          "base_uri": "https://localhost:8080/"
        },
        "id": "lq-Mt01LVaVl",
        "outputId": "2835e5c7-6f1b-4d1b-8a34-e9d1fe66d8a9"
      },
      "execution_count": null,
      "outputs": [
        {
          "output_type": "stream",
          "name": "stderr",
          "text": [
            "WARNING:root:Low disk space\n",
            "ERROR:root:An error occurred\n",
            "CRITICAL:root:System crash!\n"
          ]
        }
      ]
    },
    {
      "cell_type": "markdown",
      "source": [
        "**22.What is the os module in Python used for in file handling?**"
      ],
      "metadata": {
        "id": "bfoKcViqVhes"
      }
    },
    {
      "cell_type": "markdown",
      "source": [
        "n Python, the os module is used in file handling to interact with the operating system for tasks like creating, deleting, renaming, and navigating files and directories.\n",
        "It provides functions such as:\n",
        "\n",
        "os.rename() – rename files or directories\n",
        "\n",
        "os.remove() – delete files\n",
        "\n",
        "os.mkdir() / os.makedirs() – create directories\n",
        "\n",
        "os.rmdir() / os.removedirs() – remove directories\n",
        "\n",
        "os.getcwd() – get the current working directory\n",
        "\n",
        "os.chdir() – change the working directory\n",
        "\n",
        "os.path functions – check file existence, join paths, etc."
      ],
      "metadata": {
        "id": "OxWnYLU_VmWb"
      }
    },
    {
      "cell_type": "markdown",
      "source": [
        "**23.What are the challenges associated with memory management in Python?**"
      ],
      "metadata": {
        "id": "PRGIrvpZVs2V"
      }
    },
    {
      "cell_type": "markdown",
      "source": [
        "In Python, memory management challenges include memory leaks from unused references, reference cycles delaying cleanup, high memory usage due to object overhead, garbage collection slowing performance, and the need to manually release external resources like file handles."
      ],
      "metadata": {
        "id": "b-_cfc_BVync"
      }
    },
    {
      "cell_type": "markdown",
      "source": [
        "**24. How do you raise an exception manually in Python?**"
      ],
      "metadata": {
        "id": "mGAr0uFcV68U"
      }
    },
    {
      "cell_type": "markdown",
      "source": [
        "In Python, you can manually raise an exception using the raise statement followed by an exception type or instance, which forces the program to stop normal execution and trigger error handling; for example, raise ValueError(\"Negative value not allowed\") explicitly signals that a specific error condition has occurred."
      ],
      "metadata": {
        "id": "ZTZpldv8WKqj"
      }
    },
    {
      "cell_type": "markdown",
      "source": [
        "**25.Why is it important to use multithreading in certain applications?**"
      ],
      "metadata": {
        "id": "-oX6L3FaWRzC"
      }
    },
    {
      "cell_type": "markdown",
      "source": [
        "Multithreading is important in certain applications because it allows multiple tasks to run concurrently within the same process, improving responsiveness and resource utilization. It’s especially useful for I/O-bound tasks (like reading files, handling network requests, or user interactions) where threads can work while others wait, leading to faster execution and smoother user experiences."
      ],
      "metadata": {
        "id": "gJw2ZyZGWXU8"
      }
    },
    {
      "cell_type": "markdown",
      "source": [
        "##**Practical**"
      ],
      "metadata": {
        "id": "153GXGShWd35"
      }
    },
    {
      "cell_type": "markdown",
      "source": [
        "**1.How can you open a file for writing in Python and write a string to it.**"
      ],
      "metadata": {
        "id": "pcb5Ptc_sL-l"
      }
    },
    {
      "cell_type": "markdown",
      "source": [
        "In Python, you can open a file for writing and write a string to it using the built-in open() function along with the write() method."
      ],
      "metadata": {
        "id": "cHj7K-7Cr70r"
      }
    },
    {
      "cell_type": "code",
      "source": [
        "# Write to the file\n",
        "with open(\"output.txt\", \"w\") as file:\n",
        "    file.write(\"Python makes file handling easy!\\n\")\n",
        "    file.write(\"This is the second line.\\n\")\n",
        "\n",
        "# Read back the file content\n",
        "with open(\"output.txt\", \"r\") as file:\n",
        "    content = file.read()\n",
        "\n",
        "print(\"File contents:\")\n",
        "print(content)"
      ],
      "metadata": {
        "colab": {
          "base_uri": "https://localhost:8080/"
        },
        "id": "55qLsBE2sSSG",
        "outputId": "fee4c658-3e4e-489a-878f-2f8452231d1b"
      },
      "execution_count": null,
      "outputs": [
        {
          "output_type": "stream",
          "name": "stdout",
          "text": [
            "File contents:\n",
            "Python makes file handling easy!\n",
            "This is the second line.\n",
            "\n"
          ]
        }
      ]
    },
    {
      "cell_type": "markdown",
      "source": [
        "**2.Write a Python program to read the contents of a file and print each line.**"
      ],
      "metadata": {
        "id": "xqT0qt-5sfDL"
      }
    },
    {
      "cell_type": "code",
      "source": [
        "with open(\"example.txt\", \"w\") as f:\n",
        "    f.write(\"Hello\\nWorld\\nPython\")\n",
        "\n",
        "# Open the file in read mode\n",
        "with open(\"example.txt\", \"r\") as file:\n",
        "    # Loop through each line in the file\n",
        "    for line in file:\n",
        "        # Print the line without extra newline characters\n",
        "        print(line.strip())"
      ],
      "metadata": {
        "colab": {
          "base_uri": "https://localhost:8080/"
        },
        "id": "9G7C3yFiszvw",
        "outputId": "3dfd6136-23b1-4828-a8f0-671980091727"
      },
      "execution_count": null,
      "outputs": [
        {
          "output_type": "stream",
          "name": "stdout",
          "text": [
            "Hello\n",
            "World\n",
            "Python\n"
          ]
        }
      ]
    },
    {
      "cell_type": "markdown",
      "source": [
        "**3.How would you handle a case where the file doesn't exist while trying to open it for reading.**"
      ],
      "metadata": {
        "id": "ZLGL68WytDBU"
      }
    },
    {
      "cell_type": "markdown",
      "source": [
        "If the file doesn’t exist and you try to open it in read mode (\"r\"), Python will raise a FileNotFoundError.\n",
        "\n",
        "To handle that gracefully, you can use a try...except block:"
      ],
      "metadata": {
        "id": "iGioXMY4tTX-"
      }
    },
    {
      "cell_type": "code",
      "source": [
        "try:\n",
        "    with open(\"nonexistent.txt\", \"r\") as file:\n",
        "        for line in file:\n",
        "            print(line.strip())\n",
        "except FileNotFoundError:\n",
        "    print(\"Error: The file was not found. Please check the file name and path.\")"
      ],
      "metadata": {
        "colab": {
          "base_uri": "https://localhost:8080/"
        },
        "id": "jEy4U60qtSOK",
        "outputId": "5aac6daa-5dea-4fdd-c83f-e82c5a560999"
      },
      "execution_count": null,
      "outputs": [
        {
          "output_type": "stream",
          "name": "stdout",
          "text": [
            "Error: The file was not found. Please check the file name and path.\n"
          ]
        }
      ]
    },
    {
      "cell_type": "markdown",
      "source": [
        "**4. Write a Python script that reads from one file and writes its content to another file.**"
      ],
      "metadata": {
        "id": "l6iI2IIYtnz4"
      }
    },
    {
      "cell_type": "code",
      "source": [
        "with open(\"source.txt\", \"w\") as f:\n",
        "    f.write(\"Hello\\nPython\\nWorld\")\n",
        "\n",
        "with open(\"destination.txt\", \"r\") as f:\n",
        "    print(\"destination.txt contents:\\n\", f.read())\n",
        "\n",
        "# Read from one file and write to another\n",
        "try:\n",
        "    with open(\"source.txt\", \"r\") as src:\n",
        "        content = src.read()\n",
        "\n",
        "    with open(\"destination.txt\", \"w\") as dest:\n",
        "        dest.write(content)\n",
        "\n",
        "    print(\"File copied successfully!\")\n",
        "\n",
        "except FileNotFoundError:\n",
        "    print(\"Error: The source file does not exist.\")"
      ],
      "metadata": {
        "colab": {
          "base_uri": "https://localhost:8080/"
        },
        "id": "B0vYxiVutzGa",
        "outputId": "2e7cd630-c1fe-4e45-b78a-6c313fbf0f7a"
      },
      "execution_count": null,
      "outputs": [
        {
          "output_type": "stream",
          "name": "stdout",
          "text": [
            "destination.txt contents:\n",
            " Hello\n",
            "Python\n",
            "World\n",
            "File copied successfully!\n"
          ]
        }
      ]
    },
    {
      "cell_type": "markdown",
      "source": [
        "**5.How would you catch and handle division by zero error in Python.**"
      ],
      "metadata": {
        "id": "gybylQEwt1__"
      }
    },
    {
      "cell_type": "markdown",
      "source": [
        "In Python, a division by zero causes a ZeroDivisionError.\n",
        "You can catch and handle it using a try...except block."
      ],
      "metadata": {
        "id": "BHmXoQLPuGaA"
      }
    },
    {
      "cell_type": "code",
      "source": [
        "try:\n",
        "    numerator = 10\n",
        "    denominator = 0\n",
        "    result = numerator / denominator\n",
        "    print(\"Result:\", result)\n",
        "except ZeroDivisionError:\n",
        "    print(\"Error: Cannot divide by zero!\")"
      ],
      "metadata": {
        "colab": {
          "base_uri": "https://localhost:8080/"
        },
        "id": "2xST3pHPuHno",
        "outputId": "3b8e3127-3b1f-46c4-80d8-ed70964f4492"
      },
      "execution_count": null,
      "outputs": [
        {
          "output_type": "stream",
          "name": "stdout",
          "text": [
            "Error: Cannot divide by zero!\n"
          ]
        }
      ]
    },
    {
      "cell_type": "markdown",
      "source": [
        "**6. Write a Python program that logs an error message to a log file when a division by zero exception occurs.**"
      ],
      "metadata": {
        "id": "2hVEQGtcuNHX"
      }
    },
    {
      "cell_type": "code",
      "source": [
        "import logging\n",
        "\n",
        "# Configure logging\n",
        "logging.basicConfig(\n",
        "    filename=\"error.log\",      # Log file name\n",
        "    level=logging.ERROR,       # Log level\n",
        "    format=\"%(asctime)s - %(levelname)s - %(message)s\"\n",
        ")\n",
        "\n",
        "try:\n",
        "    numerator = 10\n",
        "    denominator = 0\n",
        "    result = numerator / denominator\n",
        "    print(\"Result:\", result)\n",
        "\n",
        "except ZeroDivisionError as e:\n",
        "    logging.error(\"Division by zero error occurred: %s\", e)\n",
        "    print(\"An error occurred. Check 'error.log' for details.\")"
      ],
      "metadata": {
        "colab": {
          "base_uri": "https://localhost:8080/"
        },
        "id": "aVK7C3ITugYj",
        "outputId": "7195bdbb-5d17-4012-e4a5-e2c7050994ed"
      },
      "execution_count": null,
      "outputs": [
        {
          "output_type": "stream",
          "name": "stderr",
          "text": [
            "ERROR:root:Division by zero error occurred: division by zero\n"
          ]
        },
        {
          "output_type": "stream",
          "name": "stdout",
          "text": [
            "An error occurred. Check 'error.log' for details.\n"
          ]
        }
      ]
    },
    {
      "cell_type": "markdown",
      "source": [
        "**7. How do you log information at different levels (INFO, ERROR, WARNING) in Python using the logging module.**"
      ],
      "metadata": {
        "id": "lnX1FjdDujqU"
      }
    },
    {
      "cell_type": "markdown",
      "source": [
        "In Python’s logging module, you can log messages at different severity levels like INFO, WARNING, and ERROR (plus DEBUG and CRITICAL)."
      ],
      "metadata": {
        "id": "5PEo9uHluvNE"
      }
    },
    {
      "cell_type": "code",
      "source": [
        "import logging\n",
        "logging.basicConfig(level=logging.DEBUG, force=True)\n",
        "\n",
        "logging.info(\"This is an info message\")\n",
        "logging.warning(\"This is an warining message\")\n",
        "logging.error(\"This is an Error message\")\n"
      ],
      "metadata": {
        "colab": {
          "base_uri": "https://localhost:8080/"
        },
        "id": "nbSky_I8lR03",
        "outputId": "d45163d6-d86d-462b-bbe5-4b0ed881ac7a"
      },
      "execution_count": null,
      "outputs": [
        {
          "output_type": "stream",
          "name": "stderr",
          "text": [
            "INFO:root:This is an info message\n",
            "WARNING:root:This is an warining message\n",
            "ERROR:root:This is an Error message\n"
          ]
        }
      ]
    },
    {
      "cell_type": "markdown",
      "source": [
        "**8.Write a program to handle a file opening error using exception handling.**"
      ],
      "metadata": {
        "id": "iyy-pyBpu6Bl"
      }
    },
    {
      "cell_type": "code",
      "source": [
        "with open(\"example.txt\", \"w\") as f:\n",
        "    f.write(\"Hello\\nThis is a test file.\\nEnjoy reading!\")\n",
        "print(\"example.txt created.\")\n",
        "\n",
        "try:\n",
        "    # Attempt to open a file that might not exist\n",
        "    with open(\"data.txt\", \"r\") as file:\n",
        "        content = file.read()\n",
        "        print(content)\n",
        "\n",
        "except FileNotFoundError:\n",
        "    print(\"Error: The file 'data.txt' was not found.\")\n",
        "\n",
        "except PermissionError:\n",
        "    print(\"Error: You do not have permission to open this file.\")\n",
        "\n",
        "except Exception as e:\n",
        "    # Catches any other unexpected exceptions\n",
        "    print(f\"An unexpected error occurred: {e}\")"
      ],
      "metadata": {
        "colab": {
          "base_uri": "https://localhost:8080/"
        },
        "id": "4ycJhha6vI4W",
        "outputId": "22216986-f673-4082-e88b-d70f7957f4bc"
      },
      "execution_count": null,
      "outputs": [
        {
          "output_type": "stream",
          "name": "stdout",
          "text": [
            "example.txt created.\n",
            "Error: The file 'data.txt' was not found.\n"
          ]
        }
      ]
    },
    {
      "cell_type": "markdown",
      "source": [
        "**9. How can you read a file line by line and store its content in a list in Python.**"
      ],
      "metadata": {
        "id": "uiVRtBbIvMSk"
      }
    },
    {
      "cell_type": "code",
      "source": [
        "# Create a file with some initial content\n",
        "with open(\"example.txt\", \"w\") as file:\n",
        "    file.write(\"Apple\\nBanana\\nCherry\")"
      ],
      "metadata": {
        "id": "nfA4mMHOvg4_"
      },
      "execution_count": null,
      "outputs": []
    },
    {
      "cell_type": "code",
      "source": [
        "with open(\"example.txt\", \"r\") as file:\n",
        "    lines = file.readlines()\n",
        "\n",
        "# Remove newline characters from each line\n",
        "lines = [line.strip() for line in lines]\n",
        "\n",
        "print(lines)\n"
      ],
      "metadata": {
        "colab": {
          "base_uri": "https://localhost:8080/"
        },
        "id": "K4uVCuyHvRew",
        "outputId": "73c0bebc-da07-47b2-f7df-35f52e30edcb"
      },
      "execution_count": null,
      "outputs": [
        {
          "output_type": "stream",
          "name": "stdout",
          "text": [
            "['Apple', 'Banana', 'Cherry']\n"
          ]
        }
      ]
    },
    {
      "cell_type": "markdown",
      "source": [
        "**10.How can you append data to an existing file in Python.**"
      ],
      "metadata": {
        "id": "m6ytCmg6v-tE"
      }
    },
    {
      "cell_type": "code",
      "source": [
        "# Create a file with some initial content\n",
        "with open(\"fruits.txt\", \"w\") as file:\n",
        "    file.write(\"Apple\\nBanana\\nCherry\")"
      ],
      "metadata": {
        "id": "oUqt0bJiwEta"
      },
      "execution_count": null,
      "outputs": []
    },
    {
      "cell_type": "code",
      "source": [
        "# Append a new fruit to the file\n",
        "with open(\"fruits.txt\", \"a\") as file:\n",
        "    file.write(\"\\nMango\")\n",
        "\n",
        "print(\"Fruit added!\")"
      ],
      "metadata": {
        "colab": {
          "base_uri": "https://localhost:8080/"
        },
        "id": "8xVDf3WewYNG",
        "outputId": "ed2187d3-a97a-485a-b7ef-4484d0bf4f7b"
      },
      "execution_count": null,
      "outputs": [
        {
          "output_type": "stream",
          "name": "stdout",
          "text": [
            "Fruit added!\n"
          ]
        }
      ]
    },
    {
      "cell_type": "code",
      "source": [
        "# Read the updated file content\n",
        "with open(\"fruits.txt\", \"r\") as file:\n",
        "    content = file.read()\n",
        "\n",
        "print(\"Updated file contents:\")\n",
        "print(content)"
      ],
      "metadata": {
        "colab": {
          "base_uri": "https://localhost:8080/"
        },
        "id": "U37KxJTBwdM1",
        "outputId": "0877e425-5a7a-4f3c-ae40-2af2d7bdc55b"
      },
      "execution_count": null,
      "outputs": [
        {
          "output_type": "stream",
          "name": "stdout",
          "text": [
            "Updated file contents:\n",
            "Apple\n",
            "Banana\n",
            "Cherry\n",
            "Mango\n"
          ]
        }
      ]
    },
    {
      "cell_type": "markdown",
      "source": [
        "**11.Write a Python program that uses a try-except block to handle an error when attempting to access a dictionary key that doesn't exist.**"
      ],
      "metadata": {
        "id": "CGJ762uGxE5m"
      }
    },
    {
      "cell_type": "code",
      "source": [
        "# Sample dictionary\n",
        "data = {\"name\": \"Alice\", \"age\": 25}\n",
        "\n",
        "try:\n",
        "    # Attempting to access a non-existent key\n",
        "    print(\"City:\", data[\"city\"])\n",
        "except KeyError:\n",
        "    print(\"Error: The key 'city' does not exist in the dictionary.\")"
      ],
      "metadata": {
        "colab": {
          "base_uri": "https://localhost:8080/"
        },
        "id": "ye1NEKVwWp4V",
        "outputId": "110b7911-4818-40b5-f427-eb5d6f17f8ff"
      },
      "execution_count": null,
      "outputs": [
        {
          "output_type": "stream",
          "name": "stdout",
          "text": [
            "Error: The key 'city' does not exist in the dictionary.\n"
          ]
        }
      ]
    },
    {
      "cell_type": "markdown",
      "source": [
        "**12.Write a program that demonstrates using multiple except blocks to handle different types of exceptions.**"
      ],
      "metadata": {
        "id": "8D0-SVwZWzUM"
      }
    },
    {
      "cell_type": "code",
      "source": [
        "try:\n",
        "    num = int(input(\"Enter a number: \"))\n",
        "    result = 10 / num\n",
        "    print(\"Result:\", result)\n",
        "\n",
        "except ValueError:\n",
        "    print(\"Error: Please enter a valid integer.\")\n",
        "\n",
        "except ZeroDivisionError:\n",
        "    print(\"Error: Division by zero is not allowed.\")\n",
        "\n",
        "except Exception as e:\n",
        "    print(f\"Unexpected error: {e}\")"
      ],
      "metadata": {
        "colab": {
          "base_uri": "https://localhost:8080/"
        },
        "id": "tOI8ZjaaW5tp",
        "outputId": "db87fc43-cfc8-482b-df40-e22d4f32a301"
      },
      "execution_count": null,
      "outputs": [
        {
          "output_type": "stream",
          "name": "stdout",
          "text": [
            "Enter a number: xyz\n",
            "Error: Please enter a valid integer.\n"
          ]
        }
      ]
    },
    {
      "cell_type": "code",
      "source": [
        "try:\n",
        "    num = int(input(\"Enter a number: \"))\n",
        "    result = 10 / num\n",
        "    print(\"Result:\", result)\n",
        "\n",
        "except ValueError:\n",
        "    print(\"Error: Please enter a valid integer.\")\n",
        "\n",
        "except ZeroDivisionError:\n",
        "    print(\"Error: Division by zero is not allowed.\")\n",
        "\n",
        "except Exception as e:\n",
        "    print(f\"Unexpected error: {e}\")"
      ],
      "metadata": {
        "colab": {
          "base_uri": "https://localhost:8080/"
        },
        "id": "tT-J5QK7XSWi",
        "outputId": "56868fd4-755d-49ca-ab4d-2de9af9587f8"
      },
      "execution_count": null,
      "outputs": [
        {
          "output_type": "stream",
          "name": "stdout",
          "text": [
            "Enter a number: 0\n",
            "Error: Division by zero is not allowed.\n"
          ]
        }
      ]
    },
    {
      "cell_type": "code",
      "source": [
        "try:\n",
        "    num = int(input(\"Enter a number: \"))\n",
        "    result = 10 / num\n",
        "    print(\"Result:\", result)\n",
        "\n",
        "except ValueError:\n",
        "    print(\"Error: Please enter a valid integer.\")\n",
        "\n",
        "except ZeroDivisionError:\n",
        "    print(\"Error: Division by zero is not allowed.\")\n",
        "\n",
        "except Exception as e:\n",
        "    print(f\"Unexpected error: {e}\")"
      ],
      "metadata": {
        "colab": {
          "base_uri": "https://localhost:8080/"
        },
        "id": "30XcgFurXVxE",
        "outputId": "b1c25a39-6477-4bad-80dc-64ca3eb37ab4"
      },
      "execution_count": null,
      "outputs": [
        {
          "output_type": "stream",
          "name": "stdout",
          "text": [
            "Enter a number: 5\n",
            "Result: 2.0\n"
          ]
        }
      ]
    },
    {
      "cell_type": "markdown",
      "source": [
        "**13.How would you check if a file exists before attempting to read it in Python?**"
      ],
      "metadata": {
        "id": "QtSnBoYBXaWU"
      }
    },
    {
      "cell_type": "code",
      "source": [
        "try:\n",
        "    with open(\"data.txt\", \"r\") as file:\n",
        "        content = file.read()\n",
        "except FileNotFoundError:\n",
        "    print(\"File does not exist.\")\n"
      ],
      "metadata": {
        "colab": {
          "base_uri": "https://localhost:8080/"
        },
        "id": "Jc5pA4vfaHFy",
        "outputId": "d677fee4-e1d8-4266-e815-33cce8cd6508"
      },
      "execution_count": null,
      "outputs": [
        {
          "output_type": "stream",
          "name": "stdout",
          "text": [
            "File does not exist.\n"
          ]
        }
      ]
    },
    {
      "cell_type": "markdown",
      "source": [
        "**14.Write a program that uses the logging module to log both informational and error messages.**"
      ],
      "metadata": {
        "id": "PSikBm14ajY1"
      }
    },
    {
      "cell_type": "code",
      "source": [
        "import logging\n",
        "logging.basicConfig(level=logging.INFO)\n",
        "logging.info(\"Hello World\")\n",
        "logging.error(\"Something went wrong\")"
      ],
      "metadata": {
        "colab": {
          "base_uri": "https://localhost:8080/"
        },
        "id": "GtLziw40b4MO",
        "outputId": "ea78dfee-cdf5-466d-9af9-5247e3ab23fe"
      },
      "execution_count": null,
      "outputs": [
        {
          "output_type": "stream",
          "name": "stderr",
          "text": [
            "ERROR:root:Something went wrong\n"
          ]
        }
      ]
    },
    {
      "cell_type": "markdown",
      "source": [
        "**15.Write a Python program that prints the content of a file and handles the case when the file is empty.**"
      ],
      "metadata": {
        "id": "SDUjqJzJcBbK"
      }
    },
    {
      "cell_type": "code",
      "source": [
        "open(\"example.txt\", \"w\").close()\n",
        "file_path = \"example.txt\"\n",
        "\n",
        "try:\n",
        "    with open(file_path, \"r\") as f:\n",
        "        content = f.read()\n",
        "        if content.strip():  # Check if not just whitespace\n",
        "            print(content)\n",
        "        else:\n",
        "            print(\"The file is empty.\")\n",
        "except FileNotFoundError:\n",
        "    print(f\"File '{file_path}' not found.\")"
      ],
      "metadata": {
        "colab": {
          "base_uri": "https://localhost:8080/"
        },
        "id": "JOndl1SwcA4Q",
        "outputId": "497937dc-b77d-4025-bbf9-32dee9fe99ab"
      },
      "execution_count": null,
      "outputs": [
        {
          "output_type": "stream",
          "name": "stdout",
          "text": [
            "The file is empty.\n"
          ]
        }
      ]
    },
    {
      "cell_type": "markdown",
      "source": [
        "**16.Demonstrate how to use memory profiling to check the memory usage of a small program.**"
      ],
      "metadata": {
        "id": "etpiwlWjdHzU"
      }
    },
    {
      "cell_type": "code",
      "source": [
        "pip install memory-profiler\n",
        "\n",
        "from memory_profiler import profile\n",
        "\n",
        "@profile\n",
        "def process_data():\n",
        "    nums = [i for i in range(1000000)]\n",
        "    squared = [n**2 for n in nums]\n",
        "    return squared\n",
        "\n",
        "if __name__ == \"__main__\":\n",
        "    process_data()"
      ],
      "metadata": {
        "id": "BWHfHO2grvgg"
      },
      "execution_count": null,
      "outputs": []
    },
    {
      "cell_type": "markdown",
      "source": [
        "**17.Write a Python program to create and write a list of numbers to a file, one number per line.**"
      ],
      "metadata": {
        "id": "u68LC2uVdoY1"
      }
    },
    {
      "cell_type": "code",
      "source": [
        "numbers = [1, 2, 3, 4, 5]\n",
        "\n",
        "with open(\"numbers.txt\", \"w\") as f:\n",
        "    for num in numbers:\n",
        "        f.write(f\"{num}\\n\")\n",
        "\n",
        "print(\"Numbers written to numbers.txt\")"
      ],
      "metadata": {
        "colab": {
          "base_uri": "https://localhost:8080/"
        },
        "id": "dqoyiGG5dr5a",
        "outputId": "c43f71a1-6fac-4778-f4bb-5d048f8ff7e6"
      },
      "execution_count": null,
      "outputs": [
        {
          "output_type": "stream",
          "name": "stdout",
          "text": [
            "Numbers written to numbers.txt\n"
          ]
        }
      ]
    },
    {
      "cell_type": "markdown",
      "source": [
        "**18.How would you implement a basic logging setup that logs to a file with rotation after 1MB?**"
      ],
      "metadata": {
        "id": "gBtBY0Spd1q5"
      }
    },
    {
      "cell_type": "code",
      "source": [
        "import logging\n",
        "from logging.handlers import RotatingFileHandler\n",
        "\n",
        "# Basic rotating file setup\n",
        "logging.basicConfig(\n",
        "    handlers=[RotatingFileHandler(\"app.log\", maxBytes=1_000_000, backupCount=1)],\n",
        "    level=logging.INFO\n",
        ")\n",
        "\n",
        "logging.info(\"Hello, this is a test log.\")"
      ],
      "metadata": {
        "colab": {
          "base_uri": "https://localhost:8080/"
        },
        "id": "xBzBlXoZeimP",
        "outputId": "9654e2ea-a651-4b4f-befe-24352e6d0d6f"
      },
      "execution_count": null,
      "outputs": [
        {
          "output_type": "stream",
          "name": "stderr",
          "text": [
            "INFO:root:Hello, this is a test log.\n"
          ]
        }
      ]
    },
    {
      "cell_type": "markdown",
      "source": [
        "**19. Write a program that handles both IndexError and KeyError using a try-except block.**"
      ],
      "metadata": {
        "id": "CPyt-X3YeqX4"
      }
    },
    {
      "cell_type": "code",
      "source": [
        "try:\n",
        "    # Trigger an IndexError\n",
        "    my_list = [1, 2, 3]\n",
        "    print(my_list[5])  # Out of range index\n",
        "\n",
        "    # Trigger a KeyError\n",
        "    my_dict = {\"a\": 1, \"b\": 2}\n",
        "    print(my_dict[\"z\"])  # Key does not exist\n",
        "\n",
        "except IndexError:\n",
        "    print(\"IndexError: Tried to access an invalid list index.\")\n",
        "except KeyError:\n",
        "    print(\"KeyError: Tried to access a dictionary key that does not exist.\")"
      ],
      "metadata": {
        "colab": {
          "base_uri": "https://localhost:8080/"
        },
        "id": "RAgv7ixHe3Bj",
        "outputId": "a5948f20-1435-40e4-d109-ebf26a4717d9"
      },
      "execution_count": null,
      "outputs": [
        {
          "output_type": "stream",
          "name": "stdout",
          "text": [
            "IndexError: Tried to access an invalid list index.\n"
          ]
        }
      ]
    },
    {
      "cell_type": "markdown",
      "source": [
        "**20.How would you open a file and read its contents using a context manager in Python?**"
      ],
      "metadata": {
        "id": "Mqnk7uZ6e5sI"
      }
    },
    {
      "cell_type": "code",
      "source": [
        "with open(\"example.txt\", \"w\") as f:\n",
        "    f.write(\"Hello\\nWorld\")\n",
        "\n",
        "file_path = \"example.txt\"\n",
        "\n",
        "with open(file_path, \"r\") as f:\n",
        "    contents = f.read()\n",
        "\n",
        "print(contents)"
      ],
      "metadata": {
        "colab": {
          "base_uri": "https://localhost:8080/"
        },
        "id": "cIbhZaFke_y4",
        "outputId": "928d11ee-5cb4-45c4-9872-0d1758eb5bd4"
      },
      "execution_count": null,
      "outputs": [
        {
          "output_type": "stream",
          "name": "stdout",
          "text": [
            "Hello\n",
            "World\n"
          ]
        }
      ]
    },
    {
      "cell_type": "markdown",
      "source": [
        "**21.Write a Python program that reads a file and prints the number of occurrences of a specific word.**"
      ],
      "metadata": {
        "id": "6mfY2WMsfXIW"
      }
    },
    {
      "cell_type": "code",
      "source": [
        "with open(\"example.txt\", \"w\") as f:\n",
        "    f.write(\"Hello\\nWorld\")\n",
        "file_path = \"example.txt\"\n",
        "word_to_count = \"hello\"\n",
        "\n",
        "try:\n",
        "    with open(file_path, \"r\") as f:\n",
        "        content = f.read().lower()  # Read and convert to lowercase\n",
        "        count = content.split().count(word_to_count.lower())\n",
        "    print(f\"The word '{word_to_count}' occurs {count} times.\")\n",
        "except FileNotFoundError:\n",
        "    print(f\"File '{file_path}' not found.\")"
      ],
      "metadata": {
        "colab": {
          "base_uri": "https://localhost:8080/"
        },
        "id": "hkRnwZy3fcfi",
        "outputId": "fd5d9095-5fe9-4948-8773-ca17dbe3ecf2"
      },
      "execution_count": null,
      "outputs": [
        {
          "output_type": "stream",
          "name": "stdout",
          "text": [
            "The word 'hello' occurs 1 times.\n"
          ]
        }
      ]
    },
    {
      "cell_type": "markdown",
      "source": [
        "**22.How can you check if a file is empty before attempting to read its contents?**"
      ],
      "metadata": {
        "id": "0kFwtiIEfsSL"
      }
    },
    {
      "cell_type": "code",
      "source": [
        "open(\"example.txt\", \"w\").close()\n",
        "\n",
        "import os\n",
        "\n",
        "file_path = \"example.txt\"\n",
        "\n",
        "if os.path.getsize(file_path) == 0:\n",
        "    print(\"The file is empty.\")\n",
        "else:\n",
        "    with open(file_path, \"r\") as f:\n",
        "        print(f.read())"
      ],
      "metadata": {
        "colab": {
          "base_uri": "https://localhost:8080/"
        },
        "id": "-dWkxNUbfzPP",
        "outputId": "beac9a2f-e023-4527-9fbe-88aab6e72a02"
      },
      "execution_count": null,
      "outputs": [
        {
          "output_type": "stream",
          "name": "stdout",
          "text": [
            "The file is empty.\n"
          ]
        }
      ]
    },
    {
      "cell_type": "markdown",
      "source": [
        "**23.Write a Python program that writes to a log file when an error occurs during file handling.**"
      ],
      "metadata": {
        "id": "P2XVI8UqhRHR"
      }
    },
    {
      "cell_type": "code",
      "source": [
        "import logging\n",
        "import os\n",
        "\n",
        "# Configure the logger\n",
        "log_file = 'file_handling_errors.log'\n",
        "logging.basicConfig(\n",
        "    filename=log_file,\n",
        "    level=logging.ERROR,  # Only log messages with severity ERROR or higher\n",
        "    format='%(asctime)s - %(levelname)s - %(message)s'\n",
        ")\n",
        "def handle_file_operation(filename, mode, content=None):\n",
        "    \"\"\"\n",
        "    Attempts a file operation and logs any errors that occur.\n",
        "    \"\"\"\n",
        "    try:\n",
        "        if mode == 'w':  # Write mode\n",
        "            with open(filename, mode) as f:\n",
        "                if content:\n",
        "                    f.write(content)\n",
        "            logging.info(f\"Successfully wrote to '{filename}'\")\n",
        "        elif mode == 'r':  # Read mode\n",
        "            with open(filename, mode) as f:\n",
        "                data = f.read()\n",
        "            logging.info(f\"Successfully read from '{filename}': {data[:50]}...\")\n",
        "            return data\n",
        "        else:\n",
        "            logging.warning(f\"Unsupported file mode: '{mode}'\")\n",
        "\n",
        "    except FileNotFoundError:\n",
        "        logging.error(f\"File not found: '{filename}'\")\n",
        "    except PermissionError:\n",
        "        logging.error(f\"Permission denied when accessing '{filename}'\")\n",
        "    except IOError as e:\n",
        "        logging.error(f\"An I/O error occurred with '{filename}': {e}\")\n",
        "    except Exception as e:\n",
        "        logging.error(f\"An unexpected error occurred during file handling: {e}\")\n",
        "\n",
        "handle_file_operation('my_document.txt', 'w', 'This is some sample content.')\n",
        "handle_file_operation('non_existent_file.txt', 'r')\n",
        "print(f\"Check the '{log_file}' file for error logs.\")"
      ],
      "metadata": {
        "colab": {
          "base_uri": "https://localhost:8080/"
        },
        "id": "DHBZYzgxvhhV",
        "outputId": "74612762-5842-4c0d-8f43-59d59c1f2d81"
      },
      "execution_count": null,
      "outputs": [
        {
          "output_type": "stream",
          "name": "stderr",
          "text": [
            "INFO:root:Successfully wrote to 'my_document.txt'\n",
            "ERROR:root:File not found: 'non_existent_file.txt'\n"
          ]
        },
        {
          "output_type": "stream",
          "name": "stdout",
          "text": [
            "Check the 'file_handling_errors.log' file for error logs.\n"
          ]
        }
      ]
    }
  ]
}